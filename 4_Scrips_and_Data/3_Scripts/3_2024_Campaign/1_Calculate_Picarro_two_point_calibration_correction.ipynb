{
 "cells": [
  {
   "cell_type": "code",
   "execution_count": 1,
   "metadata": {},
   "outputs": [],
   "source": [
    "import os\n",
    "import glob\n",
    "import pandas as pd\n",
    "import polars as pl\n",
    "import numpy\n",
    "from datetime import datetime\n",
    "from datetime import timezone\n",
    "import plotly.express as px\n",
    "\n",
    "# Get the PICARRO_DATA_DIRECTORY environment variable, or set a default if not found\n",
    "PICARRO_DATA_DIRECTORY = os.environ.get(\"PICARRO_DATA_DIRECTORY\")\n",
    "if PICARRO_DATA_DIRECTORY is None:\n",
    "    # In the folder PICARRO you copy the files M/Day/*.dat\n",
    "    PICARRO_DATA_DIRECTORY = \"/Users/juanbettinelli/Documents/Uni/MasterThesis/4_Scrips_and_Data/4_Data/10_2024_Data/Picarro_Raw\"\n",
    "\n"
   ]
  },
  {
   "cell_type": "code",
   "execution_count": 3,
   "metadata": {},
   "outputs": [],
   "source": [
    "# util funtions\n",
    "\n",
    "def process_bottle(data: list, ignore_len: bool = False):\n",
    "    if ignore_len:\n",
    "        x = data[int(len(data) * 0.3) : int(len(data) * 0.95)]\n",
    "        return numpy.median(x)\n",
    "    # 2nd bottle\n",
    "    if 50 < len(data) < 70:\n",
    "        x = data[int(len(data) * 0.3) : int(len(data) * 0.95)]\n",
    "        return numpy.median(x)\n",
    "    # 1st bottle\n",
    "    elif 70 < len(data) < 130:\n",
    "        x = data[int(len(data) * 0.5) : int(len(data) * 0.95)]\n",
    "        return numpy.median(x)\n",
    "    else:\n",
    "        return 0.0\n",
    "    \n",
    "def two_point_calibration(measured_values: list, true_values: list):\n",
    "    # Check if input lists have length 2\n",
    "    if len(measured_values) != 2 or len(true_values) != 2:\n",
    "        return 0, 0\n",
    "\n",
    "    # Calculate calibration parameters (slope and intercept)\n",
    "\n",
    "    slope = (true_values[1] - true_values[0]) / (\n",
    "        measured_values[1] - measured_values[0]\n",
    "    )\n",
    "    # y_true = m * y_meas + t\n",
    "    intercept = true_values[0] - slope * measured_values[0]\n",
    "\n",
    "    return slope, intercept"
   ]
  },
  {
   "cell_type": "code",
   "execution_count": 4,
   "metadata": {},
   "outputs": [],
   "source": [
    "filenames = glob.glob(PICARRO_DATA_DIRECTORY + \"/*/*/*.dat\")\n",
    "\n",
    "# read all *.dat picarro measurement files and add to single db using Pandas\n",
    "df_list = []\n",
    "for filename in filenames:\n",
    "    df_list.append(pd.read_csv(filename,sep='\\s+'))\n",
    "\n",
    "df = pd.concat(df_list, ignore_index=True)\n",
    "df[\"datetime\"] = pd.to_datetime((df['DATE'] + ' ' + df['TIME']))\n",
    "df.sort_values(by='datetime', inplace = True)"
   ]
  },
  {
   "cell_type": "code",
   "execution_count": 5,
   "metadata": {},
   "outputs": [
    {
     "data": {
      "text/html": [
       "<div><style>\n",
       ".dataframe > thead > tr,\n",
       ".dataframe > tbody > tr {\n",
       "  text-align: right;\n",
       "  white-space: pre-wrap;\n",
       "}\n",
       "</style>\n",
       "<small>shape: (1, 3)</small><table border=\"1\" class=\"dataframe\"><thead><tr><th>creation_timestamp</th><th>CO2_dry</th><th>h2o_reported</th></tr><tr><td>datetime[μs, UTC]</td><td>f64</td><td>f64</td></tr></thead><tbody><tr><td>2024-04-17 00:00:00.226 UTC</td><td>430.096717</td><td>0.894978</td></tr></tbody></table></div>"
      ],
      "text/plain": [
       "shape: (1, 3)\n",
       "┌─────────────────────────────┬────────────┬──────────────┐\n",
       "│ creation_timestamp          ┆ CO2_dry    ┆ h2o_reported │\n",
       "│ ---                         ┆ ---        ┆ ---          │\n",
       "│ datetime[μs, UTC]           ┆ f64        ┆ f64          │\n",
       "╞═════════════════════════════╪════════════╪══════════════╡\n",
       "│ 2024-04-17 00:00:00.226 UTC ┆ 430.096717 ┆ 0.894978     │\n",
       "└─────────────────────────────┴────────────┴──────────────┘"
      ]
     },
     "execution_count": 5,
     "metadata": {},
     "output_type": "execute_result"
    }
   ],
   "source": [
    "# Pandas DF to Polars DF\n",
    "df = pl.from_pandas(df)\n",
    "# Select columns\n",
    "df = df.select(pl.col(\"datetime\").dt.cast_time_unit(\"us\").dt.replace_time_zone(\"UTC\").alias(\"creation_timestamp\"),\n",
    "               pl.col(\"CO2_dry\"),\n",
    "               pl.col(\"h2o_reported\"))\n",
    "df.head(1)"
   ]
  },
  {
   "cell_type": "code",
   "execution_count": 13,
   "metadata": {},
   "outputs": [],
   "source": [
    "# ICOS Bottle 610.95 ppm\n",
    "start_date = datetime(2024, 4, 17, 11, 53, 0).replace(tzinfo=timezone.utc)\n",
    "end_date = datetime(2024, 4, 17, 12, 24, 0).replace(tzinfo=timezone.utc)\n",
    "\n",
    "#start_date = datetime(2024, 5, 6, 12, 1, 0).replace(tzinfo=timezone.utc)\n",
    "#end_date = datetime(2024, 5, 6, 12, 30, 0).replace(tzinfo=timezone.utc)\n",
    "\n",
    "df_p_600 = df.filter(pl.col(\"creation_timestamp\").is_between(start_date, end_date))\n",
    "\n",
    "#ICOS Bottle 427.38 ppm\n",
    "start_date = datetime(2024, 4, 17, 12, 25, 0).replace(tzinfo=timezone.utc)\n",
    "end_date = datetime(2024, 4, 17, 12, 55, 0).replace(tzinfo=timezone.utc)\n",
    "\n",
    "#start_date = datetime(2024, 5, 6, 11, 31, 0).replace(tzinfo=timezone.utc)\n",
    "#end_date = datetime(2024, 5, 6, 12, 00, 0).replace(tzinfo=timezone.utc)\n",
    "\n",
    "df_p_400 = df.filter(pl.col(\"creation_timestamp\").is_between(start_date, end_date))"
   ]
  },
  {
   "cell_type": "code",
   "execution_count": 14,
   "metadata": {},
   "outputs": [
    {
     "data": {
      "text/html": [
       "<div><style>\n",
       ".dataframe > thead > tr,\n",
       ".dataframe > tbody > tr {\n",
       "  text-align: right;\n",
       "  white-space: pre-wrap;\n",
       "}\n",
       "</style>\n",
       "<small>shape: (1, 3)</small><table border=\"1\" class=\"dataframe\"><thead><tr><th>creation_timestamp</th><th>CO2_dry</th><th>h2o_reported</th></tr><tr><td>datetime[μs, UTC]</td><td>f64</td><td>f64</td></tr></thead><tbody><tr><td>2024-04-17 11:53:00.819 UTC</td><td>607.460775</td><td>0.01454</td></tr></tbody></table></div>"
      ],
      "text/plain": [
       "shape: (1, 3)\n",
       "┌─────────────────────────────┬────────────┬──────────────┐\n",
       "│ creation_timestamp          ┆ CO2_dry    ┆ h2o_reported │\n",
       "│ ---                         ┆ ---        ┆ ---          │\n",
       "│ datetime[μs, UTC]           ┆ f64        ┆ f64          │\n",
       "╞═════════════════════════════╪════════════╪══════════════╡\n",
       "│ 2024-04-17 11:53:00.819 UTC ┆ 607.460775 ┆ 0.01454      │\n",
       "└─────────────────────────────┴────────────┴──────────────┘"
      ]
     },
     "execution_count": 14,
     "metadata": {},
     "output_type": "execute_result"
    }
   ],
   "source": [
    "df_p_600.head(1)"
   ]
  },
  {
   "cell_type": "code",
   "execution_count": 15,
   "metadata": {},
   "outputs": [
    {
     "name": "stdout",
     "output_type": "stream",
     "text": [
      "[424.79570109, 607.22807303]\n",
      "1.006235889211451 -0.06468001949787094\n"
     ]
    }
   ],
   "source": [
    "measured_values = [None, None]\n",
    "true_values = [427.38, 610.95]\n",
    "\n",
    "# 400 ppm \n",
    "data = df_p_400.select(pl.col(\"CO2_dry\")).to_series().to_list()\n",
    "measured_values[0] = process_bottle(data=data, ignore_len=True)\n",
    "\n",
    "# 600 ppm\n",
    "data = df_p_600.select(pl.col(\"CO2_dry\")).to_series().to_list()\n",
    "measured_values[1] = process_bottle(data=data, ignore_len=True)\n",
    "\n",
    "print(measured_values)\n",
    "\n",
    "picaro_slope, picarro_intercept = two_point_calibration(measured_values, true_values)\n",
    "print(picaro_slope, picarro_intercept)\n",
    "\n"
   ]
  }
 ],
 "metadata": {
  "kernelspec": {
   "display_name": ".venv",
   "language": "python",
   "name": "python3"
  },
  "language_info": {
   "codemirror_mode": {
    "name": "ipython",
    "version": 3
   },
   "file_extension": ".py",
   "mimetype": "text/x-python",
   "name": "python",
   "nbconvert_exporter": "python",
   "pygments_lexer": "ipython3",
   "version": "3.9.13"
  }
 },
 "nbformat": 4,
 "nbformat_minor": 2
}
